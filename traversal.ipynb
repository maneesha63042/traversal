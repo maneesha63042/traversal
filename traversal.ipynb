{
 "cells": [
  {
   "cell_type": "code",
   "execution_count": 5,
   "id": "1268c160-4870-4f67-aef4-1299b89b09de",
   "metadata": {},
   "outputs": [
    {
     "name": "stdout",
     "output_type": "stream",
     "text": [
      "1 2 3 4 8 12 16 15 14 13 9 5 6 7 11 10   1   2   3   4 \n",
      "  5   6   7   8 \n",
      "  9  10  11  12 \n",
      " 13  14  15  16 \n"
     ]
    }
   ],
   "source": [
    "matrix=[[1,2,3,4],[5,6,7,8],[9,10,11,12],[13,14,15,16]]\n",
    "rows=len(matrix)\n",
    "cols=len(matrix[0])\n",
    "top,left=0,0\n",
    "bottom,right=cols-1,rows-1\n",
    "num=1\n",
    "while top<=bottom and left<=right:\n",
    "    for i in range (left,right+1):\n",
    "       print(matrix[top][i],end=' ')\n",
    "    top+=1\n",
    "    for i in range(top,bottom+1):\n",
    "         print(matrix[i][right],end=' ')\n",
    "    right-=1\n",
    "    for i in range(right,left-1,-1):\n",
    "         print(matrix[bottom][i],end=' ')\n",
    "    bottom-=1\n",
    "    for i in range(bottom,top-1,-1):\n",
    "         print(matrix[i][left],end=' ')\n",
    "    left+=1\n",
    "for row in matrix:\n",
    "    for val in row:\n",
    "        print(f\"{val:3}\",end=' ')\n",
    "    print()"
   ]
  },
  {
   "cell_type": "code",
   "execution_count": 8,
   "id": "99b07c4f-81c2-4509-814a-a05c53819274",
   "metadata": {},
   "outputs": [
    {
     "name": "stdout",
     "output_type": "stream",
     "text": [
      "1 2 3 4 8 12 16 15 14 13 9 5 6 7 11 10 "
     ]
    }
   ],
   "source": [
    "matrix=[[1,2,3,4],[5,6,7,8],[9,10,11,12],[13,14,15,16]]\n",
    "rows=len(matrix)\n",
    "cols=len(matrix[0])\n",
    "top,left=0,0\n",
    "bottom,right=cols-1,rows-1\n",
    "num=1\n",
    "while top<=bottom and left<=right:\n",
    "    for i in range (left,right+1):\n",
    "       print(matrix[top][i],end=' ')\n",
    "    top+=1\n",
    "    for i in range(top,bottom+1):\n",
    "         print(matrix[i][right],end=' ')\n",
    "    right-=1\n",
    "    for i in range(right,left-1,-1):\n",
    "         print(matrix[bottom][i],end=' ')\n",
    "    bottom-=1\n",
    "    for i in range(bottom,top-1,-1):\n",
    "         print(matrix[i][left],end=' ')\n",
    "    left+=1"
   ]
  },
  {
   "cell_type": "code",
   "execution_count": null,
   "id": "0bd09dd6-baa9-4a80-b797-ff54f77f707d",
   "metadata": {},
   "outputs": [],
   "source": []
  }
 ],
 "metadata": {
  "kernelspec": {
   "display_name": "Python 3 (ipykernel)",
   "language": "python",
   "name": "python3"
  },
  "language_info": {
   "codemirror_mode": {
    "name": "ipython",
    "version": 3
   },
   "file_extension": ".py",
   "mimetype": "text/x-python",
   "name": "python",
   "nbconvert_exporter": "python",
   "pygments_lexer": "ipython3",
   "version": "3.12.7"
  }
 },
 "nbformat": 4,
 "nbformat_minor": 5
}
